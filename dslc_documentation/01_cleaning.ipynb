{
 "cells": [
  {
   "cell_type": "code",
   "execution_count": 32,
   "metadata": {},
   "outputs": [],
   "source": [
    "import os\n",
    "import pandas as pd\n",
    "import matplotlib.pyplot as plt\n",
    "import seaborn as sns"
   ]
  },
  {
   "cell_type": "code",
   "execution_count": 33,
   "metadata": {},
   "outputs": [
    {
     "name": "stderr",
     "output_type": "stream",
     "text": [
      "/var/folders/7n/wd610q_96_5crpp9w0bq0gfh0000gn/T/ipykernel_61912/3196340237.py:8: DtypeWarning: Columns (21,22,38,39,46,47) have mixed types. Specify dtype option on import or set low_memory=False.\n",
      "  suggestions_df = pd.read_csv(os.path.join(data_dir, files[2]))\n"
     ]
    }
   ],
   "source": [
    "# Load the data\n",
    "data_dir = '../data'\n",
    "files = ['gfsteps.csv', 'jbsteps.csv', 'suggestions.csv', 'users.csv']\n",
    "\n",
    "users_df = pd.read_csv(os.path.join(data_dir, files[3]))\n",
    "gfsteps_df = pd.read_csv(os.path.join(data_dir, files[0]))\n",
    "jbsteps_df = pd.read_csv(os.path.join(data_dir, files[1]))\n",
    "suggestions_df = pd.read_csv(os.path.join(data_dir, files[2]))"
   ]
  },
  {
   "cell_type": "markdown",
   "metadata": {},
   "source": [
    "1. Identify Time of Notification: Using the sugg.select.utime field from the suggestions.csv file, we can pinpoint when a suggestion was given.\n",
    "\n",
    "2. Align Step Data: We'll align the step data from jbsteps.csv and gfsteps.csv with the time of notification. We'll calculate the total number of steps before and after the notification by choosing appropriate time windows (e.g., 30 minutes before and after the notification).\n",
    "\n",
    "3. Calculate Step Difference: For each suggestion, we will compute the step counts in the defined time windows before and after the notification."
   ]
  },
  {
   "cell_type": "code",
   "execution_count": 34,
   "metadata": {},
   "outputs": [
    {
     "name": "stdout",
     "output_type": "stream",
     "text": [
      "   user.index   notification_time  steps_before  steps_after send.active  \\\n",
      "0           1 2015-07-22 16:30:00             0         1311       False   \n",
      "1           1 2015-07-22 18:30:00           418          414        True   \n",
      "2           1 2015-07-22 21:30:00           261          341       False   \n",
      "3           1 2015-07-22 23:30:00          3030          369       False   \n",
      "4           1 2015-07-23 09:30:00             0            0       False   \n",
      "\n",
      "  send.sedentary                              dec.location.category  user.age  \\\n",
      "0           True  restaurant,meal_takeaway,food,point_of_interes...        48   \n",
      "1          False                                               work        48   \n",
      "2          False                                               home        48   \n",
      "3           True                                               home        48   \n",
      "4          False                                               home        48   \n",
      "\n",
      "  user.gender  user.children  user.screentime  \n",
      "0      female              1                2  \n",
      "1      female              1                2  \n",
      "2      female              1                2  \n",
      "3      female              1                2  \n",
      "4      female              1                2  \n"
     ]
    }
   ],
   "source": [
    "# Convert the 'sugg.select.utime' in the suggestions_df to datetime\n",
    "suggestions_df['sugg.select.utime'] = pd.to_datetime(suggestions_df['sugg.select.utime'], format='mixed')\n",
    "\n",
    "# Convert the step time fields in jbsteps_df and gfsteps_df to datetime\n",
    "jbsteps_df['steps.utime'] = pd.to_datetime(jbsteps_df['steps.utime'])\n",
    "gfsteps_df['steps.utime'] = pd.to_datetime(gfsteps_df['steps.utime'])\n",
    "\n",
    "# Define a time window (e.g., 30 minutes) before and after the notification for calculating steps\n",
    "time_window = pd.Timedelta(minutes=30)\n",
    "\n",
    "# Function to calculate steps before and after notification\n",
    "def calculate_steps(df_steps, suggestions_df, time_window):\n",
    "    # List to store the results\n",
    "    results = []\n",
    "\n",
    "    for idx, row in suggestions_df.iterrows():\n",
    "        user_index = row['user.index']\n",
    "        notification_time = row['sugg.select.utime']\n",
    "\n",
    "        # Filter step data for the user and for the time window before and after the notification\n",
    "        user_steps = df_steps[df_steps['user.index'] == user_index]\n",
    "\n",
    "        steps_before = user_steps[(user_steps['steps.utime'] >= notification_time - time_window) &\n",
    "                                  (user_steps['steps.utime'] < notification_time)]['steps'].sum()\n",
    "\n",
    "        steps_after = user_steps[(user_steps['steps.utime'] > notification_time) &\n",
    "                                 (user_steps['steps.utime'] <= notification_time + time_window)]['steps'].sum()\n",
    "\n",
    "        results.append({\n",
    "            'user.index': user_index,\n",
    "            'notification_time': notification_time,\n",
    "            'steps_before': steps_before,\n",
    "            'steps_after': steps_after\n",
    "        })\n",
    "\n",
    "    return pd.DataFrame(results)\n",
    "\n",
    "# Calculate steps for jbsteps and gfsteps\n",
    "jbsteps_results = calculate_steps(jbsteps_df, suggestions_df, time_window)\n",
    "gfsteps_results = calculate_steps(gfsteps_df, suggestions_df, time_window)\n",
    "\n",
    "# Combine jbsteps and gfsteps results into one dataframe\n",
    "all_steps_results = pd.concat([jbsteps_results, gfsteps_results])\n",
    "\n",
    "# Select only the relevant columns from suggestions_df ('send.active', 'send.sedentary', 'user.index', 'sugg.select.utime')\n",
    "suggestions_filtered = suggestions_df[[\n",
    "    'user.index', \n",
    "    'sugg.select.utime', \n",
    "    'send.active', \n",
    "    'send.sedentary',\n",
    "    'dec.location.category',\n",
    "    # 'dec.precipitation.chance',\n",
    "]]\n",
    "users_filtered = users_df[['user.index', 'age', 'gender', 'children', 'screentime']]\n",
    "#rename columns in user to user. prefix except for user.index\n",
    "users_filtered = users_filtered.rename(columns = lambda x: 'user.' + x if x != 'user.index' else x)\n",
    "\n",
    "#convert dec.preciptation.chance to numeric\n",
    "# suggestions_filtered['dec.precipitation.chance'] = pd.to_numeric(suggestions_filtered['dec.precipitation.chance'], errors='coerce')\n",
    "# suggestions_filtered['dec.precipitation.chance'] = suggestions_filtered['dec.precipitation.chance'].fillna(0)\n",
    "# Merge suggestions_filtered into all_steps_results based on 'user.index' and 'notification_time'/'sugg.select.utime'\n",
    "all_steps_results = pd.merge(all_steps_results, suggestions_filtered,\n",
    "                             left_on=['user.index', 'notification_time'],\n",
    "                             right_on=['user.index', 'sugg.select.utime'],\n",
    "                             how='left')\n",
    "all_steps_results = pd.merge(all_steps_results, users_filtered,left_on=['user.index'],right_on=['user.index'],how='left')                        \n",
    "\n",
    "# Drop the 'sugg.select.utime' column since it is redundant after the merge\n",
    "all_steps_results.drop(columns=['sugg.select.utime'], inplace=True)\n",
    "\n",
    "# Display the first few rows of the final dataframe\n",
    "print(all_steps_results.head())"
   ]
  },
  {
   "cell_type": "code",
   "execution_count": 35,
   "metadata": {},
   "outputs": [
    {
     "name": "stdout",
     "output_type": "stream",
     "text": [
      "Wrote to ../data/preprocessed_all_steps_results.csv\n"
     ]
    }
   ],
   "source": [
    "write_to = data_dir + '/preprocessed_all_steps_results.csv'\n",
    "all_steps_results.to_csv(write_to, index=False)\n",
    "print(f'Wrote to {write_to}')"
   ]
  }
 ],
 "metadata": {
  "kernelspec": {
   "display_name": "Python (AML)",
   "language": "python",
   "name": "aml_env"
  },
  "language_info": {
   "codemirror_mode": {
    "name": "ipython",
    "version": 3
   },
   "file_extension": ".py",
   "mimetype": "text/x-python",
   "name": "python",
   "nbconvert_exporter": "python",
   "pygments_lexer": "ipython3",
   "version": "3.9.13"
  }
 },
 "nbformat": 4,
 "nbformat_minor": 2
}
