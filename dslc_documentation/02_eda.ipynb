{
 "cells": [
  {
   "cell_type": "code",
   "execution_count": null,
   "metadata": {
    "id": "Yovp1s8FkVXv"
   },
   "outputs": [],
   "source": [
    "import pandas as pd\n",
    "import numpy as np\n",
    "import matplotlib.pyplot as plt\n",
    "import seaborn as sns\n",
    "\n",
    "from functions.inference_fns import *"
   ]
  },
  {
   "cell_type": "code",
   "execution_count": null,
   "metadata": {
    "id": "tusJTYGqodc-"
   },
   "outputs": [],
   "source": [
    "#pip install permute"
   ]
  },
  {
   "cell_type": "code",
   "execution_count": null,
   "metadata": {
    "colab": {
     "base_uri": "https://localhost:8080/",
     "height": 1000
    },
    "id": "8oQtCFPDoaz1",
    "outputId": "1a838479-6662-4e6f-afd3-e73bf4a4a0f6"
   },
   "outputs": [],
   "source": [
    "path = './../data/'\n",
    "\n",
    "users_df = pd.read_csv(path + 'users.csv')\n",
    "suggestions_df = pd.read_csv(path + 'suggestions.csv')\n",
    "jbsteps_df = pd.read_csv(path + 'jbsteps.csv')\n",
    "gfsteps_df = pd.read_csv(path + 'gfsteps.csv')\n",
    "\n",
    "# print(users_df.head())\n",
    "# print(suggestions_df.head())\n",
    "# print(jbsteps_df.head())\n",
    "# print(gfsteps_df.head())"
   ]
  },
  {
   "cell_type": "markdown",
   "metadata": {
    "id": "41n7sc9rlLAJ"
   },
   "source": [
    "1. Identify Time of Notification: Using the sugg.select.utime field from the suggestions.csv file, we can pinpoint when a suggestion was given.\n",
    "\n",
    "2. Align Step Data: We'll align the step data from jbsteps.csv and gfsteps.csv with the time of notification. We'll calculate the total number of steps before and after the notification by choosing appropriate time windows (e.g., 30 minutes before and after the notification).\n",
    "\n",
    "3. Calculate Step Difference: For each suggestion, we will compute the step counts in the defined time windows before and after the notification."
   ]
  },
  {
   "cell_type": "code",
   "execution_count": null,
   "metadata": {
    "colab": {
     "base_uri": "https://localhost:8080/",
     "height": 525
    },
    "id": "0EBvpeDFlPo_",
    "outputId": "c9c3a8c2-b253-4633-e604-75fd64c27577"
   },
   "outputs": [],
   "source": [
    "all_steps_results = pd.read_csv(path + 'preprocessed_all_steps_results.csv')"
   ]
  },
  {
   "cell_type": "code",
   "execution_count": null,
   "metadata": {},
   "outputs": [],
   "source": [
    "hypothesis_suite = {\n",
    "        'user was sedentary': lambda df: df['send.sedentary'] == True,\n",
    "        'user was active': lambda df: df['send.active'] == True,\n",
    "        'location category is home': lambda df: df['dec.location.category'] == 'home',\n",
    "        'location category is work': lambda df: df['dec.location.category'] == 'work',\n",
    "        'location category is neither home nor work': lambda df: ~df['dec.location.category'].isin(['home', 'work']),\n",
    "        'user gender is male': lambda df: df['user.gender'] == 'male',\n",
    "        'user gender is female': lambda df: df['user.gender'] == 'female',\n",
    "        'user has children': lambda df: df['user.children'] > 0,\n",
    "        'user has no children': lambda df: df['user.children'] == 0,\n",
    "        'user is under 30': lambda df: df['user.age'] < 30,\n",
    "        'user is between 30 and 50': lambda df: (df['user.age'] >= 30) & (df['user.age'] < 50),\n",
    "        'user is over 50': lambda df: df['user.age'] >= 50,\n",
    "    }\n",
    "p_values = {}\n",
    "for hypothesis_name, hypothesis_fn in hypothesis_suite.items():\n",
    "    print(\"Testing hypothesis for when:\", hypothesis_name)\n",
    "    p_result = test_hypothesis_for_criterion(all_steps_results, hypothesis_fn, reps=10**4)\n",
    "    p_values[hypothesis_name] = p_result\n",
    "    print(\"=====================================\")"
   ]
  },
  {
   "cell_type": "code",
   "execution_count": null,
   "metadata": {
    "id": "G2CKAot8nWZd"
   },
   "outputs": [],
   "source": [
    "successful_hypotheses = benjamini_hochberg(p_values, alpha=0.05, plot=True)"
   ]
  },
  {
   "cell_type": "code",
   "execution_count": null,
   "metadata": {},
   "outputs": [],
   "source": [
    "print(\"Number of unique users when... \")\n",
    "for hypothesis_name, hypothesis_fn in hypothesis_suite.items():\n",
    "    test_population = all_steps_results.copy()\n",
    "    test_population = test_population[hypothesis_fn(test_population)]\n",
    "    num = test_population['user.index'].nunique()\n",
    "    #print hypothesis name and number of unique users in a tabular format\n",
    "    print(f\"\\t...{hypothesis_name:50}: {num}\")"
   ]
  }
 ],
 "metadata": {
  "colab": {
   "provenance": []
  },
  "kernelspec": {
   "display_name": "Python (AML)",
   "language": "python",
   "name": "aml_env"
  },
  "language_info": {
   "codemirror_mode": {
    "name": "ipython",
    "version": 3
   },
   "file_extension": ".py",
   "mimetype": "text/x-python",
   "name": "python",
   "nbconvert_exporter": "python",
   "pygments_lexer": "ipython3",
   "version": "3.9.13"
  }
 },
 "nbformat": 4,
 "nbformat_minor": 0
}
